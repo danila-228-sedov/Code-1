{
  "nbformat": 4,
  "nbformat_minor": 0,
  "metadata": {
    "colab": {
      "name": "Untitled11.ipynb",
      "provenance": [],
      "mount_file_id": "1KcRNM6HgqgEuw50Vp_-3JD6tttilTJZg",
      "authorship_tag": "ABX9TyMLHZymESiYzbK+Q2eEzY3F",
      "include_colab_link": true
    },
    "kernelspec": {
      "name": "python3",
      "display_name": "Python 3"
    }
  },
  "cells": [
    {
      "cell_type": "markdown",
      "metadata": {
        "id": "view-in-github",
        "colab_type": "text"
      },
      "source": [
        "<a href=\"https://colab.research.google.com/github/danila-228-sedov/Code-1/blob/master/Untitled11.ipynb\" target=\"_parent\"><img src=\"https://colab.research.google.com/assets/colab-badge.svg\" alt=\"Open In Colab\"/></a>"
      ]
    },
    {
      "cell_type": "code",
      "metadata": {
        "colab": {
          "base_uri": "https://localhost:8080/"
        },
        "id": "09CFn6jWamFj",
        "outputId": "61c6c878-9834-441f-9a05-edb871b7caac"
      },
      "source": [
        "print('Группа: 20БИ-3')\r\n",
        "print('ФИО: Седов Данила Александрович')\r\n",
        "!ln -fs /usr/share/zoneinfo/Europe/Moscow /etc/localtime\r\n",
        "!date"
      ],
      "execution_count": null,
      "outputs": [
        {
          "output_type": "stream",
          "text": [
            "Группа: 20БИ-3\n",
            "ФИО: Седов Данила Александрович\n",
            "Wed Mar  3 21:49:20 MSK 2021\n"
          ],
          "name": "stdout"
        }
      ]
    },
    {
      "cell_type": "code",
      "metadata": {
        "colab": {
          "base_uri": "https://localhost:8080/"
        },
        "id": "5_kEjB7Vtn3y",
        "outputId": "335c4a49-fc3e-4922-ad63-554389bcdefc"
      },
      "source": [
        "\r\n",
        "from google.colab import drive\r\n",
        "drive.mount('/content/drive/')\r\n",
        "import os\r\n",
        "print(os.getcwd())\r\n",
        "print(os.listdir('./'))\r\n",
        "print(os.listdir('/content/drive'))\r\n",
        "print(os.listdir('/content/drive/MyDrive/Colab Notebooks/swot'))\r\n"
      ],
      "execution_count": null,
      "outputs": [
        {
          "output_type": "stream",
          "text": [
            "Drive already mounted at /content/drive/; to attempt to forcibly remount, call drive.mount(\"/content/drive/\", force_remount=True).\n",
            "/content\n",
            "['.config', 'SWOT Анализ.xlsx', 'drive', 'sample_data']\n",
            "['MyDrive', '.file-revisions-by-id', '.shortcut-targets-by-id', '.Trash']\n",
            "['SWOT Анализ.xlsx']\n"
          ],
          "name": "stdout"
        }
      ]
    },
    {
      "cell_type": "code",
      "metadata": {
        "colab": {
          "base_uri": "https://localhost:8080/"
        },
        "id": "cIROwU4p14AW",
        "outputId": "0b7712d3-6e1e-49ee-c8fc-20274781a65d"
      },
      "source": [
        "import os\r\n",
        "import time\r\n",
        "from google.colab import auth\r\n",
        "auth.authenticate_user()\r\n",
        "!pip install --upgrade gspread\r\n",
        "import gspread\r\n",
        "from oauth2client.client import GoogleCredentials\r\n",
        "print('\\nРабота с таблицей')\r\n",
        "%ll -lAF /content/drive/MyDrive/Colab Notebooks/swot/\r\n",
        "gs = gspread.authorize(GoogleCredentials.get_application_default())\r\n",
        "os.stat('/content/drive/MyDrive/Colab Notebooks/swot/Новая таблица.gsheet')\r\n",
        "table = gs.open_by_key('18rmuOa50v0Pbc8nlXRWXmvmBgVltt5aLGLl9Qr-5aX8')\r\n",
        "print(dir(table))\r\n",
        "worksheet = table.worksheet('list1')\r\n",
        "rows = worksheet.get_all_values()\r\n",
        "print(rows)\r\n",
        "strength = [0] * 6\r\n",
        "s=0\r\n",
        "opportunities = [0] * 6\r\n",
        "o = 0\r\n",
        "weakness = [0] * 6\r\n",
        "w = 0\r\n",
        "threats = [0] * 6\r\n",
        "t = 0\r\n",
        "flag = 'strength'\r\n",
        "for i in rows:\r\n",
        "  if i[0] == 'strength':\r\n",
        "    flag = 'strength'\r\n",
        "  if i[0] == 'weakness':\r\n",
        "    flag = 'weakness'\r\n",
        "  if i[0] == 'opportunities':\r\n",
        "    flag = 'opportunities'\r\n",
        "  if i[0] == 'threats':\r\n",
        "    flag = 'threats'\r\n",
        "  if flag == 'strength' and i[4] != '' and i[4] != 'power':\r\n",
        "    strength[s] = i[4]\r\n",
        "    s = s + 1\r\n",
        "  if flag == 'opportunities' and i[4] != '' and i[4] != 'power':\r\n",
        "    opportunities[o] = i[4]\r\n",
        "    o = o + 1\r\n",
        "  if flag == 'weakness' and i[4] != '' and i[4] != 'power':\r\n",
        "    weakness[w] = i[4]\r\n",
        "    w = w + 1\r\n",
        "  if flag == 'threats' and i[4] != '' and i[4] != 'power':\r\n",
        "    threats[t] = i[4]\r\n",
        "    t = t + 1\r\n",
        "print(strength)\r\n",
        "print(opportunities)\r\n",
        "print(weakness)\r\n",
        "print(threats)\r\n",
        "streng = 0\r\n",
        "opport = 0\r\n",
        "weak = 0\r\n",
        "threat = 0\r\n",
        "for i in strength:\r\n",
        "  streng = streng + float(i)\r\n",
        "for i in opportunities:\r\n",
        "  opport = opport + float(i)\r\n",
        "for i in weakness:\r\n",
        "  weak = weak + float(i)\r\n",
        "for i in threats:\r\n",
        "  threat = threat + float(i)\r\n",
        "worksheet.update('A43', 'strength ' + str(s))\r\n",
        "worksheet.update('B43', 'weakness ' + str(w))\r\n",
        "worksheet.update('C43', 'opportunities ' + str(o))\r\n",
        "worksheet.update('D43', 'threats ' + str(t))\r\n",
        "worksheet.update('A44', 'sum power ' + str(s + o - w - t))\r\n",
        "prob = (s + o) / (s + o + w + t)\r\n",
        "worksheet.update('B44', 'Probability of good result ' + str(prob))"
      ],
      "execution_count": 45,
      "outputs": [
        {
          "output_type": "stream",
          "text": [
            "Requirement already up-to-date: gspread in /usr/local/lib/python3.7/dist-packages (3.7.0)\n",
            "Requirement already satisfied, skipping upgrade: google-auth-oauthlib>=0.4.1 in /usr/local/lib/python3.7/dist-packages (from gspread) (0.4.2)\n",
            "Requirement already satisfied, skipping upgrade: google-auth>=1.12.0 in /usr/local/lib/python3.7/dist-packages (from gspread) (1.27.0)\n",
            "Requirement already satisfied, skipping upgrade: requests-oauthlib>=0.7.0 in /usr/local/lib/python3.7/dist-packages (from google-auth-oauthlib>=0.4.1->gspread) (1.3.0)\n",
            "Requirement already satisfied, skipping upgrade: six>=1.9.0 in /usr/local/lib/python3.7/dist-packages (from google-auth>=1.12.0->gspread) (1.15.0)\n",
            "Requirement already satisfied, skipping upgrade: rsa<5,>=3.1.4; python_version >= \"3.6\" in /usr/local/lib/python3.7/dist-packages (from google-auth>=1.12.0->gspread) (4.7.2)\n",
            "Requirement already satisfied, skipping upgrade: cachetools<5.0,>=2.0.0 in /usr/local/lib/python3.7/dist-packages (from google-auth>=1.12.0->gspread) (4.2.1)\n",
            "Requirement already satisfied, skipping upgrade: setuptools>=40.3.0 in /usr/local/lib/python3.7/dist-packages (from google-auth>=1.12.0->gspread) (54.0.0)\n",
            "Requirement already satisfied, skipping upgrade: pyasn1-modules>=0.2.1 in /usr/local/lib/python3.7/dist-packages (from google-auth>=1.12.0->gspread) (0.2.8)\n",
            "Requirement already satisfied, skipping upgrade: requests>=2.0.0 in /usr/local/lib/python3.7/dist-packages (from requests-oauthlib>=0.7.0->google-auth-oauthlib>=0.4.1->gspread) (2.23.0)\n",
            "Requirement already satisfied, skipping upgrade: oauthlib>=3.0.0 in /usr/local/lib/python3.7/dist-packages (from requests-oauthlib>=0.7.0->google-auth-oauthlib>=0.4.1->gspread) (3.1.0)\n",
            "Requirement already satisfied, skipping upgrade: pyasn1>=0.1.3 in /usr/local/lib/python3.7/dist-packages (from rsa<5,>=3.1.4; python_version >= \"3.6\"->google-auth>=1.12.0->gspread) (0.4.8)\n",
            "Requirement already satisfied, skipping upgrade: certifi>=2017.4.17 in /usr/local/lib/python3.7/dist-packages (from requests>=2.0.0->requests-oauthlib>=0.7.0->google-auth-oauthlib>=0.4.1->gspread) (2020.12.5)\n",
            "Requirement already satisfied, skipping upgrade: idna<3,>=2.5 in /usr/local/lib/python3.7/dist-packages (from requests>=2.0.0->requests-oauthlib>=0.7.0->google-auth-oauthlib>=0.4.1->gspread) (2.10)\n",
            "Requirement already satisfied, skipping upgrade: chardet<4,>=3.0.2 in /usr/local/lib/python3.7/dist-packages (from requests>=2.0.0->requests-oauthlib>=0.7.0->google-auth-oauthlib>=0.4.1->gspread) (3.0.4)\n",
            "Requirement already satisfied, skipping upgrade: urllib3!=1.25.0,!=1.25.1,<1.26,>=1.21.1 in /usr/local/lib/python3.7/dist-packages (from requests>=2.0.0->requests-oauthlib>=0.7.0->google-auth-oauthlib>=0.4.1->gspread) (1.24.3)\n",
            "\n",
            "Работа с таблицей\n",
            "ls: cannot access '/content/drive/MyDrive/Colab': No such file or directory\n",
            "ls: cannot access 'Notebooks/swot/': No such file or directory\n",
            "['__class__', '__delattr__', '__dict__', '__dir__', '__doc__', '__eq__', '__format__', '__ge__', '__getattribute__', '__gt__', '__hash__', '__init__', '__init_subclass__', '__iter__', '__le__', '__lt__', '__module__', '__ne__', '__new__', '__reduce__', '__reduce_ex__', '__repr__', '__setattr__', '__sizeof__', '__str__', '__subclasshook__', '__weakref__', '_properties', '_spreadsheets_get', '_spreadsheets_sheets_copy_to', 'add_worksheet', 'batch_update', 'client', 'del_worksheet', 'duplicate_sheet', 'fetch_sheet_metadata', 'get_worksheet', 'id', 'list_permissions', 'remove_permissions', 'reorder_worksheets', 'share', 'sheet1', 'title', 'updated', 'url', 'values_append', 'values_batch_get', 'values_batch_update', 'values_clear', 'values_get', 'values_update', 'worksheet', 'worksheets']\n",
            "[['', '', '', '', ''], ['strength', '', '', '', ''], ['name', 'actions', 'importance', 'probability', 'power'], ['Охват широкого круга компаний-заказчиков', 'Возможность часто находить заказы', '10', '0.7', '7'], ['Возможность работать с компанией в любой точке мира', 'Единственный ограничивающй фактор - языковой барьер', '8', '0.6', '4.8'], ['Индивидуальный подход к каждому заказчику', 'Возможность наиболее полно удовлетворить запрос заказчика', '5', '1', '5'], ['Небольшой стартовый капитал, невысокие финансовые риски', 'Практически безрисковый старт работы', '8', '1', '8'], ['weakness', '', '', '', ''], ['name', 'actions', 'importance', 'probability', 'power'], ['Высокая зависимость от рынка услуг (кризисы и локдауны могут быть серьезной проблемой)', 'Расширение списка потенциальных покупателей', '7', '0.3', '2.1'], ['Непопулярный в России вид рекламы и продвижения', 'Разработка новых стратегий продвижения', '5', '0.5', '2.5'], ['Высокая стоимость оплаты труда дизайнеров и художников', 'На начальных этапах оплата сдельная', '6', '0.7', '4.2'], ['Неразвитое ПО для автоматизации процесса', 'Заказ на разработку собственного ПО', '6', '0.3', '1.8'], ['opportunities', '', '', '', ''], ['name', 'actions', 'importance', 'probability', 'power'], ['Эффективное продвижение с помощью рекламы', 'Продвижение в социальных сетях, таргетинговая реклама', '8', '0.9', '7.2'], ['Получение особо крупных заказов', 'Разработко продукта для крупных компаний', '7', '0.6', '4.2'], ['Сотрудничество с производителями ПО и оборудования', 'Партнерские сделкина правах рекламы', '7', '0.6', '4.2'], ['Выход на международный уровень', 'Заработок репутации на международном рынке', '8', '0.4', '3.2'], ['threats', '', '', '', ''], ['name', 'actions', 'importance', 'probability', 'power'], ['Возможность долгого отсутвия заказов', 'Пересмотр стратегии продвижения', '5', '0.5', '2.5'], ['Риск возникновения тяжелой рыночной ситуации', 'Расширение сферы деятельности компании', '6', '0.5', '3'], ['Риск оказаться невостребованными на рынке', 'Демонстрация эффективности своего продукта ', '10', '0.5', '5'], ['Риск конкуренции с компаниями из смежных сфер', 'Индивидуальный подход, эксклюзивные услуги', '8', '0.6', '4.8']]\n",
            "['7', '4.8', '5', '8', 0, 0]\n",
            "['7.2', '4.2', '4.2', '3.2', 0, 0]\n",
            "['2.1', '2.5', '4.2', '1.8', 0, 0]\n",
            "['2.5', '3', '5', '4.8', 0, 0]\n"
          ],
          "name": "stdout"
        },
        {
          "output_type": "execute_result",
          "data": {
            "text/plain": [
              "{'spreadsheetId': '18rmuOa50v0Pbc8nlXRWXmvmBgVltt5aLGLl9Qr-5aX8',\n",
              " 'updatedCells': 1,\n",
              " 'updatedColumns': 1,\n",
              " 'updatedRange': 'list1!B44',\n",
              " 'updatedRows': 1}"
            ]
          },
          "metadata": {
            "tags": []
          },
          "execution_count": 45
        }
      ]
    },
    {
      "cell_type": "code",
      "metadata": {
        "colab": {
          "base_uri": "https://localhost:8080/",
          "height": 1000
        },
        "id": "DnKZDrQM4a99",
        "outputId": "a37407ea-6662-480c-bcf8-4dee4ab2da5b"
      },
      "source": [
        "import os\r\n",
        "import time\r\n",
        "from google.colab import auth\r\n",
        "auth.authenticate_user()\r\n",
        "!pip install --upgrade gspread\r\n",
        "import gspread\r\n",
        "from oauth2client.client import GoogleCredentials\r\n",
        "print('\\nРаботаем с таблицей')\r\n",
        "%ll -lAF /content/drive/MyDrive/Colab Notebooks/swot\r\n",
        "gs = gspread.authorize(GoogleCredentials.get_application_default())\r\n",
        "os.stat('/content/drive/MyDrive/Colab Notebooks/swot/Новая таблица.gsheet')\r\n",
        "table = gs.open_by_key('18rmuOa50v0Pbc8nlXRWXmvmBgVltt5aLGLl9Qr-5aX8')\r\n",
        "print(dir(table))\r\n",
        "worksheet = table.worksheet('list1')\r\n",
        "rows = worksheet.get_all_values()\r\n",
        "print(rows)\r\n",
        "strength = [0] * 6\r\n",
        "s = 0\r\n",
        "opportunities = [0] * 6\r\n",
        "o = 0\r\n",
        "weakness = [0] * 6\r\n",
        "w = 0\r\n",
        "threats = [0] * 6\r\n",
        "t = 0\r\n",
        "flag = 'strength'\r\n",
        "for i in rows:\r\n",
        "  if i[0] == 'strength':\r\n",
        "    flag = 'strength'\r\n",
        "  if i[0] == 'weakness':\r\n",
        "    flag = 'weakness'\r\n",
        "  if i[0] == 'opportunities':\r\n",
        "    flag = 'opportunities'\r\n",
        "  if i[0] == 'threats':\r\n",
        "    flag = 'threats'\r\n",
        "  if flag == 'strength' and i[4] != '' and i[4] != 'power':\r\n",
        "    strength[s] = i[4]\r\n",
        "    s = s + 1\r\n",
        "  if flag == 'opportunities' and i[4] != '' and i[4] != 'power':\r\n",
        "    opportunities[o] = i[4]\r\n",
        "    o = o + 1\r\n",
        "  if flag == 'weakness' and i[4] != '' and i[4] != 'power':\r\n",
        "    weakness[w] = i[4]\r\n",
        "    w = w + 1\r\n",
        "  if flag == 'threats' and i[4] != '' and i[4] != 'power':\r\n",
        "    threats[t] = i[4]\r\n",
        "    t = t + 1\r\n",
        "print(strength)\r\n",
        "print(opportunities)\r\n",
        "print(weakness)\r\n",
        "print(threats)\r\n",
        "streng = 0\r\n",
        "opport = 0\r\n",
        "weak = 0\r\n",
        "threat = 0\r\n",
        "for i in strength:\r\n",
        "  streng = streng + float(i)\r\n",
        "for i in opportunities:\r\n",
        "  opport = opport + float(i)\r\n",
        "for i in weakness:\r\n",
        "  weak = weak + float(i)\r\n",
        "for i in threats:\r\n",
        "  threat = threat + float(i)\r\n",
        "  import matplotlib.pyplot as plt\r\n",
        "x=list()\r\n",
        "x_float=list()\r\n",
        "title=list()\r\n",
        "y_float=list()\r\n",
        "    \r\n",
        "title = [ \"strengths\", \"weaknesses\", \"opportunities\", \"threats\", \"result\"]\r\n",
        "x=title\r\n",
        "x_float = [1, 2, 3, 4, 5]\r\n",
        "result = streng - 1*weak + opport - 1*threat\r\n",
        "y = [streng, weak, opport, threat]\r\n",
        "y_float = [streng, -1*weak, opport, -1*threat,  result]\r\n",
        "print(x_float,title,y_float)\r\n",
        "print('списки формированы-->\\n')\r\n",
        "x_pos=list()\r\n",
        "for i in range(x_float.__len__()):\r\n",
        "    x_pos.append(i)\r\n",
        "print('<!--разбивка по абсцисс и значения ординат\\n', len( x_float), x_pos, y_float, ' -->\\n')\r\n",
        "\r\n",
        "fig=plt.figure(figsize=(8,6), dpi=72)\r\n",
        "plt.bar(x_pos, y_float, width=0.75, align='edge', alpha=0.4)\r\n",
        "plt.xticks(x_pos,  x_float, fontsize=14)\r\n",
        "plt.xlabel('Обозначения1', fontsize=14)\r\n",
        "plt.ylabel('Мощность воздействия', fontsize=14)\r\n",
        "plt.title('SWOT', fontsize=14)\r\n",
        "plt.grid(True, color='r', linestyle='-', linewidth=2)\r\n",
        "#plt.draw()\r\n",
        "plt.show()\r\n",
        "fig.savefig(\"/content/drive/MyDrive/Colab Notebooks/swot/mask.png\")\r\n",
        "print('<div class=\"d-flex flex-row \">')\r\n",
        "print('<div class=\"card m-1\" style=\"width: 28rem;\">',\r\n",
        "      '<img  src=\"/content/drive/MyDrive/Colab Notebooks/swot/mask.png\" class=\"card-img-top\" alt=\"...\">',\r\n",
        "      '<div class=\"card-body\">')\r\n",
        "    \r\n",
        "for i in range(title.__len__()):\r\n",
        "    print(i+1, \" - \", title[i], \"; \")\r\n",
        "    i += 1\r\n",
        "print('</div>', '</div>')\r\n",
        "print('<div>')"
      ],
      "execution_count": 47,
      "outputs": [
        {
          "output_type": "stream",
          "text": [
            "Requirement already up-to-date: gspread in /usr/local/lib/python3.7/dist-packages (3.7.0)\n",
            "Requirement already satisfied, skipping upgrade: google-auth-oauthlib>=0.4.1 in /usr/local/lib/python3.7/dist-packages (from gspread) (0.4.2)\n",
            "Requirement already satisfied, skipping upgrade: google-auth>=1.12.0 in /usr/local/lib/python3.7/dist-packages (from gspread) (1.27.0)\n",
            "Requirement already satisfied, skipping upgrade: requests-oauthlib>=0.7.0 in /usr/local/lib/python3.7/dist-packages (from google-auth-oauthlib>=0.4.1->gspread) (1.3.0)\n",
            "Requirement already satisfied, skipping upgrade: pyasn1-modules>=0.2.1 in /usr/local/lib/python3.7/dist-packages (from google-auth>=1.12.0->gspread) (0.2.8)\n",
            "Requirement already satisfied, skipping upgrade: cachetools<5.0,>=2.0.0 in /usr/local/lib/python3.7/dist-packages (from google-auth>=1.12.0->gspread) (4.2.1)\n",
            "Requirement already satisfied, skipping upgrade: setuptools>=40.3.0 in /usr/local/lib/python3.7/dist-packages (from google-auth>=1.12.0->gspread) (54.0.0)\n",
            "Requirement already satisfied, skipping upgrade: six>=1.9.0 in /usr/local/lib/python3.7/dist-packages (from google-auth>=1.12.0->gspread) (1.15.0)\n",
            "Requirement already satisfied, skipping upgrade: rsa<5,>=3.1.4; python_version >= \"3.6\" in /usr/local/lib/python3.7/dist-packages (from google-auth>=1.12.0->gspread) (4.7.2)\n",
            "Requirement already satisfied, skipping upgrade: requests>=2.0.0 in /usr/local/lib/python3.7/dist-packages (from requests-oauthlib>=0.7.0->google-auth-oauthlib>=0.4.1->gspread) (2.23.0)\n",
            "Requirement already satisfied, skipping upgrade: oauthlib>=3.0.0 in /usr/local/lib/python3.7/dist-packages (from requests-oauthlib>=0.7.0->google-auth-oauthlib>=0.4.1->gspread) (3.1.0)\n",
            "Requirement already satisfied, skipping upgrade: pyasn1<0.5.0,>=0.4.6 in /usr/local/lib/python3.7/dist-packages (from pyasn1-modules>=0.2.1->google-auth>=1.12.0->gspread) (0.4.8)\n",
            "Requirement already satisfied, skipping upgrade: urllib3!=1.25.0,!=1.25.1,<1.26,>=1.21.1 in /usr/local/lib/python3.7/dist-packages (from requests>=2.0.0->requests-oauthlib>=0.7.0->google-auth-oauthlib>=0.4.1->gspread) (1.24.3)\n",
            "Requirement already satisfied, skipping upgrade: certifi>=2017.4.17 in /usr/local/lib/python3.7/dist-packages (from requests>=2.0.0->requests-oauthlib>=0.7.0->google-auth-oauthlib>=0.4.1->gspread) (2020.12.5)\n",
            "Requirement already satisfied, skipping upgrade: chardet<4,>=3.0.2 in /usr/local/lib/python3.7/dist-packages (from requests>=2.0.0->requests-oauthlib>=0.7.0->google-auth-oauthlib>=0.4.1->gspread) (3.0.4)\n",
            "Requirement already satisfied, skipping upgrade: idna<3,>=2.5 in /usr/local/lib/python3.7/dist-packages (from requests>=2.0.0->requests-oauthlib>=0.7.0->google-auth-oauthlib>=0.4.1->gspread) (2.10)\n",
            "\n",
            "Работаем с таблицей\n",
            "ls: cannot access '/content/drive/MyDrive/Colab': No such file or directory\n",
            "ls: cannot access 'Notebooks/swot': No such file or directory\n",
            "['__class__', '__delattr__', '__dict__', '__dir__', '__doc__', '__eq__', '__format__', '__ge__', '__getattribute__', '__gt__', '__hash__', '__init__', '__init_subclass__', '__iter__', '__le__', '__lt__', '__module__', '__ne__', '__new__', '__reduce__', '__reduce_ex__', '__repr__', '__setattr__', '__sizeof__', '__str__', '__subclasshook__', '__weakref__', '_properties', '_spreadsheets_get', '_spreadsheets_sheets_copy_to', 'add_worksheet', 'batch_update', 'client', 'del_worksheet', 'duplicate_sheet', 'fetch_sheet_metadata', 'get_worksheet', 'id', 'list_permissions', 'remove_permissions', 'reorder_worksheets', 'share', 'sheet1', 'title', 'updated', 'url', 'values_append', 'values_batch_get', 'values_batch_update', 'values_clear', 'values_get', 'values_update', 'worksheet', 'worksheets']\n",
            "[['', '', '', '', ''], ['strength', '', '', '', ''], ['name', 'actions', 'importance', 'probability', 'power'], ['Охват широкого круга компаний-заказчиков', 'Возможность часто находить заказы', '10', '0.7', '7'], ['Возможность работать с компанией в любой точке мира', 'Единственный ограничивающй фактор - языковой барьер', '8', '0.6', '4.8'], ['Индивидуальный подход к каждому заказчику', 'Возможность наиболее полно удовлетворить запрос заказчика', '5', '1', '5'], ['Небольшой стартовый капитал, невысокие финансовые риски', 'Практически безрисковый старт работы', '8', '1', '8'], ['weakness', '', '', '', ''], ['name', 'actions', 'importance', 'probability', 'power'], ['Высокая зависимость от рынка услуг (кризисы и локдауны могут быть серьезной проблемой)', 'Расширение списка потенциальных покупателей', '7', '0.3', '2.1'], ['Непопулярный в России вид рекламы и продвижения', 'Разработка новых стратегий продвижения', '5', '0.5', '2.5'], ['Высокая стоимость оплаты труда дизайнеров и художников', 'На начальных этапах оплата сдельная', '6', '0.7', '4.2'], ['Неразвитое ПО для автоматизации процесса', 'Заказ на разработку собственного ПО', '6', '0.3', '1.8'], ['opportunities', '', '', '', ''], ['name', 'actions', 'importance', 'probability', 'power'], ['Эффективное продвижение с помощью рекламы', 'Продвижение в социальных сетях, таргетинговая реклама', '8', '0.9', '7.2'], ['Получение особо крупных заказов', 'Разработко продукта для крупных компаний', '7', '0.6', '4.2'], ['Сотрудничество с производителями ПО и оборудования', 'Партнерские сделкина правах рекламы', '7', '0.6', '4.2'], ['Выход на международный уровень', 'Заработок репутации на международном рынке', '8', '0.4', '3.2'], ['threats', '', '', '', ''], ['name', 'actions', 'importance', 'probability', 'power'], ['Возможность долгого отсутвия заказов', 'Пересмотр стратегии продвижения', '5', '0.5', '2.5'], ['Риск возникновения тяжелой рыночной ситуации', 'Расширение сферы деятельности компании', '6', '0.5', '3'], ['Риск оказаться невостребованными на рынке', 'Демонстрация эффективности своего продукта ', '10', '0.5', '5'], ['Риск конкуренции с компаниями из смежных сфер', 'Индивидуальный подход, эксклюзивные услуги', '8', '0.6', '4.8'], ['', '', '', '', ''], ['', '', '', '', ''], ['', '', '', '', ''], ['', '', '', '', ''], ['', '', '', '', ''], ['', '', '', '', ''], ['', '', '', '', ''], ['', '', '', '', ''], ['', '', '', '', ''], ['', '', '', '', ''], ['', '', '', '', ''], ['', '', '', '', ''], ['', '', '', '', ''], ['', '', '', '', ''], ['', '', '', '', ''], ['', '', '', '', ''], ['', '', '', '', ''], ['strength 4', 'weakness 4', 'opportunities 4', 'threats 4', ''], ['sum power 0', 'Probability of good result 0.5', '', '', '']]\n",
            "['7', '4.8', '5', '8', 0, 0]\n",
            "['7.2', '4.2', '4.2', '3.2', 0, 0]\n",
            "['2.1', '2.5', '4.2', '1.8', 0, 0]\n",
            "['2.5', '3', '5', '4.8', 0, 0]\n",
            "[1, 2, 3, 4, 5] ['strengths', 'weaknesses', 'opportunities', 'threats', 'result'] [24.8, -10.600000000000001, 18.8, -15.3, 17.7]\n",
            "списки формированы-->\n",
            "\n",
            "<!--разбивка по абсцисс и значения ординат\n",
            " 5 [0, 1, 2, 3, 4] [24.8, -10.600000000000001, 18.8, -15.3, 17.7]  -->\n",
            "\n"
          ],
          "name": "stdout"
        },
        {
          "output_type": "display_data",
          "data": {
            "image/png": "[encoded data removed]",
            "text/plain": [
              "<Figure size 576x432 with 1 Axes>"
            ]
          },
          "metadata": {
            "tags": [],
            "needs_background": "light"
          }
        },
        {
          "output_type": "stream",
          "text": [
            "<div class=\"d-flex flex-row \">\n",
            "<div class=\"card m-1\" style=\"width: 28rem;\"> <img  src=\"/content/drive/MyDrive/Colab Notebooks/swot/mask.png\" class=\"card-img-top\" alt=\"...\"> <div class=\"card-body\">\n",
            "1  -  strengths ; \n",
            "2  -  weaknesses ; \n",
            "3  -  opportunities ; \n",
            "4  -  threats ; \n",
            "5  -  result ; \n",
            "</div> </div>\n",
            "<div>\n"
          ],
          "name": "stdout"
        }
      ]
    }
  ]
}